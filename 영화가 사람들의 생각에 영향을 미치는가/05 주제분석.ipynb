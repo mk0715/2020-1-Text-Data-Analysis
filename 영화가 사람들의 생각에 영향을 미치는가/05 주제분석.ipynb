{
 "cells": [
  {
   "cell_type": "code",
   "execution_count": 1,
   "metadata": {},
   "outputs": [],
   "source": [
    "import pandas as pd"
   ]
  },
  {
   "cell_type": "code",
   "execution_count": 2,
   "metadata": {},
   "outputs": [
    {
     "data": {
      "text/html": [
       "<div>\n",
       "<style scoped>\n",
       "    .dataframe tbody tr th:only-of-type {\n",
       "        vertical-align: middle;\n",
       "    }\n",
       "\n",
       "    .dataframe tbody tr th {\n",
       "        vertical-align: top;\n",
       "    }\n",
       "\n",
       "    .dataframe thead th {\n",
       "        text-align: right;\n",
       "    }\n",
       "</style>\n",
       "<table border=\"1\" class=\"dataframe\">\n",
       "  <thead>\n",
       "    <tr style=\"text-align: right;\">\n",
       "      <th></th>\n",
       "      <th>review</th>\n",
       "      <th>score</th>\n",
       "      <th>sentiment</th>\n",
       "    </tr>\n",
       "  </thead>\n",
       "  <tbody>\n",
       "    <tr>\n",
       "      <th>0</th>\n",
       "      <td>영화 어제 봤습니다. 80~90년대 부산에 산 사람만이 알 수 있는 표현들이 너무 ...</td>\n",
       "      <td>10</td>\n",
       "      <td>1</td>\n",
       "    </tr>\n",
       "    <tr>\n",
       "      <th>1</th>\n",
       "      <td>ㅂㅈㅇㅇㅈㅈ 아~ 부산냄새~ 나는 서울 출신 이라서 무슨말하는지 이해안감</td>\n",
       "      <td>0</td>\n",
       "      <td>0</td>\n",
       "    </tr>\n",
       "    <tr>\n",
       "      <th>2</th>\n",
       "      <td>조폭영화중 최고 최민식이 다 살렸다</td>\n",
       "      <td>6</td>\n",
       "      <td>1</td>\n",
       "    </tr>\n",
       "    <tr>\n",
       "      <th>3</th>\n",
       "      <td>NaN</td>\n",
       "      <td>7</td>\n",
       "      <td>1</td>\n",
       "    </tr>\n",
       "    <tr>\n",
       "      <th>4</th>\n",
       "      <td>프리비에트 돌았네~~</td>\n",
       "      <td>9</td>\n",
       "      <td>1</td>\n",
       "    </tr>\n",
       "    <tr>\n",
       "      <th>...</th>\n",
       "      <td>...</td>\n",
       "      <td>...</td>\n",
       "      <td>...</td>\n",
       "    </tr>\n",
       "    <tr>\n",
       "      <th>4675</th>\n",
       "      <td>미치겠다.. 도대체 언제 개봉이냐?? ㅎ</td>\n",
       "      <td>10</td>\n",
       "      <td>1</td>\n",
       "    </tr>\n",
       "    <tr>\n",
       "      <th>4676</th>\n",
       "      <td>캐스팅 쩐다 진짜....ㄷㄷㄷㄷ</td>\n",
       "      <td>10</td>\n",
       "      <td>1</td>\n",
       "    </tr>\n",
       "    <tr>\n",
       "      <th>4677</th>\n",
       "      <td>이영화 대박날듯!!!!!!!!!!!!!!!!!!!!!!!100</td>\n",
       "      <td>10</td>\n",
       "      <td>1</td>\n",
       "    </tr>\n",
       "    <tr>\n",
       "      <th>4678</th>\n",
       "      <td>부산 촬영현장을 봤는데....두배우의 카리스마..대단합니다.</td>\n",
       "      <td>10</td>\n",
       "      <td>1</td>\n",
       "    </tr>\n",
       "    <tr>\n",
       "      <th>4679</th>\n",
       "      <td>진짜 재밌을 것 같아요!</td>\n",
       "      <td>10</td>\n",
       "      <td>1</td>\n",
       "    </tr>\n",
       "  </tbody>\n",
       "</table>\n",
       "<p>4680 rows × 3 columns</p>\n",
       "</div>"
      ],
      "text/plain": [
       "                                                 review  score  sentiment\n",
       "0     영화 어제 봤습니다. 80~90년대 부산에 산 사람만이 알 수 있는 표현들이 너무 ...     10          1\n",
       "1              ㅂㅈㅇㅇㅈㅈ 아~ 부산냄새~ 나는 서울 출신 이라서 무슨말하는지 이해안감      0          0\n",
       "2                                   조폭영화중 최고 최민식이 다 살렸다      6          1\n",
       "3                                                   NaN      7          1\n",
       "4                                           프리비에트 돌았네~~      9          1\n",
       "...                                                 ...    ...        ...\n",
       "4675                             미치겠다.. 도대체 언제 개봉이냐?? ㅎ     10          1\n",
       "4676                                  캐스팅 쩐다 진짜....ㄷㄷㄷㄷ     10          1\n",
       "4677                 이영화 대박날듯!!!!!!!!!!!!!!!!!!!!!!!100     10          1\n",
       "4678                  부산 촬영현장을 봤는데....두배우의 카리스마..대단합니다.     10          1\n",
       "4679                                      진짜 재밌을 것 같아요!     10          1\n",
       "\n",
       "[4680 rows x 3 columns]"
      ]
     },
     "execution_count": 2,
     "metadata": {},
     "output_type": "execute_result"
    }
   ],
   "source": [
    "df1 = pd.read_excel('범죄와의전쟁.xlsx', index_col=0)\n",
    "df2 = pd.read_excel('광해.xlsx', index_col=0)\n",
    "df3 = pd.read_excel('내부자들.xlsx', index_col=0)\n",
    "df4 = pd.read_excel('더킹.xlsx', index_col=0)\n",
    "df1"
   ]
  },
  {
   "cell_type": "code",
   "execution_count": 3,
   "metadata": {},
   "outputs": [
    {
     "data": {
      "text/html": [
       "<div>\n",
       "<style scoped>\n",
       "    .dataframe tbody tr th:only-of-type {\n",
       "        vertical-align: middle;\n",
       "    }\n",
       "\n",
       "    .dataframe tbody tr th {\n",
       "        vertical-align: top;\n",
       "    }\n",
       "\n",
       "    .dataframe thead th {\n",
       "        text-align: right;\n",
       "    }\n",
       "</style>\n",
       "<table border=\"1\" class=\"dataframe\">\n",
       "  <thead>\n",
       "    <tr style=\"text-align: right;\">\n",
       "      <th></th>\n",
       "      <th>review</th>\n",
       "      <th>score</th>\n",
       "      <th>sentiment</th>\n",
       "    </tr>\n",
       "  </thead>\n",
       "  <tbody>\n",
       "    <tr>\n",
       "      <th>0</th>\n",
       "      <td>영화 어제 봤습니다. 80~90년대 부산에 산 사람만이 알 수 있는 표현들이 너무 ...</td>\n",
       "      <td>10</td>\n",
       "      <td>1</td>\n",
       "    </tr>\n",
       "    <tr>\n",
       "      <th>1</th>\n",
       "      <td>ㅂㅈㅇㅇㅈㅈ 아~ 부산냄새~ 나는 서울 출신 이라서 무슨말하는지 이해안감</td>\n",
       "      <td>0</td>\n",
       "      <td>0</td>\n",
       "    </tr>\n",
       "    <tr>\n",
       "      <th>2</th>\n",
       "      <td>조폭영화중 최고 최민식이 다 살렸다</td>\n",
       "      <td>6</td>\n",
       "      <td>1</td>\n",
       "    </tr>\n",
       "    <tr>\n",
       "      <th>4</th>\n",
       "      <td>프리비에트 돌았네~~</td>\n",
       "      <td>9</td>\n",
       "      <td>1</td>\n",
       "    </tr>\n",
       "    <tr>\n",
       "      <th>5</th>\n",
       "      <td>살아있네~~</td>\n",
       "      <td>9</td>\n",
       "      <td>1</td>\n",
       "    </tr>\n",
       "    <tr>\n",
       "      <th>...</th>\n",
       "      <td>...</td>\n",
       "      <td>...</td>\n",
       "      <td>...</td>\n",
       "    </tr>\n",
       "    <tr>\n",
       "      <th>4675</th>\n",
       "      <td>미치겠다.. 도대체 언제 개봉이냐?? ㅎ</td>\n",
       "      <td>10</td>\n",
       "      <td>1</td>\n",
       "    </tr>\n",
       "    <tr>\n",
       "      <th>4676</th>\n",
       "      <td>캐스팅 쩐다 진짜....ㄷㄷㄷㄷ</td>\n",
       "      <td>10</td>\n",
       "      <td>1</td>\n",
       "    </tr>\n",
       "    <tr>\n",
       "      <th>4677</th>\n",
       "      <td>이영화 대박날듯!!!!!!!!!!!!!!!!!!!!!!!100</td>\n",
       "      <td>10</td>\n",
       "      <td>1</td>\n",
       "    </tr>\n",
       "    <tr>\n",
       "      <th>4678</th>\n",
       "      <td>부산 촬영현장을 봤는데....두배우의 카리스마..대단합니다.</td>\n",
       "      <td>10</td>\n",
       "      <td>1</td>\n",
       "    </tr>\n",
       "    <tr>\n",
       "      <th>4679</th>\n",
       "      <td>진짜 재밌을 것 같아요!</td>\n",
       "      <td>10</td>\n",
       "      <td>1</td>\n",
       "    </tr>\n",
       "  </tbody>\n",
       "</table>\n",
       "<p>1829 rows × 3 columns</p>\n",
       "</div>"
      ],
      "text/plain": [
       "                                                 review  score  sentiment\n",
       "0     영화 어제 봤습니다. 80~90년대 부산에 산 사람만이 알 수 있는 표현들이 너무 ...     10          1\n",
       "1              ㅂㅈㅇㅇㅈㅈ 아~ 부산냄새~ 나는 서울 출신 이라서 무슨말하는지 이해안감      0          0\n",
       "2                                   조폭영화중 최고 최민식이 다 살렸다      6          1\n",
       "4                                           프리비에트 돌았네~~      9          1\n",
       "5                                                살아있네~~      9          1\n",
       "...                                                 ...    ...        ...\n",
       "4675                             미치겠다.. 도대체 언제 개봉이냐?? ㅎ     10          1\n",
       "4676                                  캐스팅 쩐다 진짜....ㄷㄷㄷㄷ     10          1\n",
       "4677                 이영화 대박날듯!!!!!!!!!!!!!!!!!!!!!!!100     10          1\n",
       "4678                  부산 촬영현장을 봤는데....두배우의 카리스마..대단합니다.     10          1\n",
       "4679                                      진짜 재밌을 것 같아요!     10          1\n",
       "\n",
       "[1829 rows x 3 columns]"
      ]
     },
     "execution_count": 3,
     "metadata": {},
     "output_type": "execute_result"
    }
   ],
   "source": [
    "df1 = df1.dropna(axis=0)\n",
    "df2 = df2.dropna(axis=0)\n",
    "df3 = df3.dropna(axis=0)\n",
    "df4 = df4.dropna(axis=0)\n",
    "df1"
   ]
  },
  {
   "cell_type": "code",
   "execution_count": 4,
   "metadata": {},
   "outputs": [],
   "source": [
    "from sklearn.model_selection import train_test_split"
   ]
  },
  {
   "cell_type": "code",
   "execution_count": 5,
   "metadata": {},
   "outputs": [],
   "source": [
    "review1_train, review1_test = train_test_split(df1['review'], test_size=.2, random_state=1234)"
   ]
  },
  {
   "cell_type": "code",
   "execution_count": 6,
   "metadata": {},
   "outputs": [
    {
     "data": {
      "text/plain": [
       "(1463,)"
      ]
     },
     "execution_count": 6,
     "metadata": {},
     "output_type": "execute_result"
    }
   ],
   "source": [
    "review1_train.shape"
   ]
  },
  {
   "cell_type": "code",
   "execution_count": 7,
   "metadata": {},
   "outputs": [],
   "source": [
    "from sklearn.feature_extraction.text import CountVectorizer"
   ]
  },
  {
   "cell_type": "code",
   "execution_count": 8,
   "metadata": {},
   "outputs": [],
   "source": [
    "cv1 = CountVectorizer(stop_words='english', max_features=2000)"
   ]
  },
  {
   "cell_type": "code",
   "execution_count": 9,
   "metadata": {},
   "outputs": [],
   "source": [
    "x1_train = cv1.fit_transform(review1_train)"
   ]
  },
  {
   "cell_type": "code",
   "execution_count": 10,
   "metadata": {},
   "outputs": [],
   "source": [
    "x1_test = cv1.fit_transform(review1_test)"
   ]
  },
  {
   "cell_type": "code",
   "execution_count": 11,
   "metadata": {},
   "outputs": [
    {
     "data": {
      "text/plain": [
       "['review1.pkl']"
      ]
     },
     "execution_count": 11,
     "metadata": {},
     "output_type": "execute_result"
    }
   ],
   "source": [
    "import joblib\n",
    "\n",
    "data1 = {\n",
    "    'x1_train': x1_train, \n",
    "    'x1_test': x1_test,\n",
    "    'cv1': cv1\n",
    "}\n",
    "joblib.dump(data1, 'review1.pkl')"
   ]
  },
  {
   "cell_type": "code",
   "execution_count": 12,
   "metadata": {},
   "outputs": [],
   "source": [
    "data1 = joblib.load('review1.pkl')\n",
    "locals().update(data1)"
   ]
  },
  {
   "cell_type": "code",
   "execution_count": 13,
   "metadata": {},
   "outputs": [
    {
     "data": {
      "text/plain": [
       "(1463, 2000)"
      ]
     },
     "execution_count": 13,
     "metadata": {},
     "output_type": "execute_result"
    }
   ],
   "source": [
    "x1_train.shape"
   ]
  },
  {
   "cell_type": "code",
   "execution_count": 14,
   "metadata": {},
   "outputs": [],
   "source": [
    "from sklearn.decomposition import TruncatedSVD"
   ]
  },
  {
   "cell_type": "code",
   "execution_count": 15,
   "metadata": {},
   "outputs": [
    {
     "data": {
      "text/plain": [
       "TruncatedSVD(algorithm='randomized', n_components=10, n_iter=5,\n",
       "             random_state=1234, tol=0.0)"
      ]
     },
     "execution_count": 15,
     "metadata": {},
     "output_type": "execute_result"
    }
   ],
   "source": [
    "svd1 = TruncatedSVD(n_components=10, random_state=1234)\n",
    "svd1.fit(x1_train)"
   ]
  },
  {
   "cell_type": "code",
   "execution_count": 16,
   "metadata": {},
   "outputs": [],
   "source": [
    "import matplotlib.pyplot as plt"
   ]
  },
  {
   "cell_type": "code",
   "execution_count": 17,
   "metadata": {},
   "outputs": [
    {
     "data": {
      "text/plain": [
       "[<matplotlib.lines.Line2D at 0x2ca8e266548>]"
      ]
     },
     "execution_count": 17,
     "metadata": {},
     "output_type": "execute_result"
    },
    {
     "data": {
      "image/png": "[encoded data removed]",
      "text/plain": [
       "<Figure size 432x288 with 1 Axes>"
      ]
     },
     "metadata": {
      "needs_background": "light"
     },
     "output_type": "display_data"
    }
   ],
   "source": [
    "plt.plot(svd1.explained_variance_, 'o')"
   ]
  },
  {
   "cell_type": "code",
   "execution_count": 18,
   "metadata": {},
   "outputs": [
    {
     "data": {
      "text/plain": [
       "TruncatedSVD(algorithm='randomized', n_components=8, n_iter=5,\n",
       "             random_state=1234, tol=0.0)"
      ]
     },
     "execution_count": 18,
     "metadata": {},
     "output_type": "execute_result"
    }
   ],
   "source": [
    "svd1 = TruncatedSVD(n_components=8, random_state=1234)\n",
    "svd1.fit(x1_train)"
   ]
  },
  {
   "cell_type": "code",
   "execution_count": 19,
   "metadata": {},
   "outputs": [
    {
     "data": {
      "text/plain": [
       "['svd1.pkl']"
      ]
     },
     "execution_count": 19,
     "metadata": {},
     "output_type": "execute_result"
    }
   ],
   "source": [
    "joblib.dump(svd1, 'svd1.pkl')"
   ]
  },
  {
   "cell_type": "code",
   "execution_count": 20,
   "metadata": {},
   "outputs": [],
   "source": [
    "doc_emb1 = svd1.transform(x1_test)"
   ]
  },
  {
   "cell_type": "code",
   "execution_count": 21,
   "metadata": {},
   "outputs": [
    {
     "data": {
      "text/plain": [
       "(366, 8)"
      ]
     },
     "execution_count": 21,
     "metadata": {},
     "output_type": "execute_result"
    }
   ],
   "source": [
    "doc_emb1.shape"
   ]
  },
  {
   "cell_type": "code",
   "execution_count": 22,
   "metadata": {},
   "outputs": [
    {
     "data": {
      "text/plain": [
       "(8, 2000)"
      ]
     },
     "execution_count": 22,
     "metadata": {},
     "output_type": "execute_result"
    }
   ],
   "source": [
    "svd1.components_.shape"
   ]
  },
  {
   "cell_type": "code",
   "execution_count": 23,
   "metadata": {},
   "outputs": [],
   "source": [
    "loading1 = pd.DataFrame(svd1.components_.T)\n",
    "loading1['word'] = cv1.get_feature_names()"
   ]
  },
  {
   "cell_type": "code",
   "execution_count": 24,
   "metadata": {},
   "outputs": [
    {
     "data": {
      "text/html": [
       "<div>\n",
       "<style scoped>\n",
       "    .dataframe tbody tr th:only-of-type {\n",
       "        vertical-align: middle;\n",
       "    }\n",
       "\n",
       "    .dataframe tbody tr th {\n",
       "        vertical-align: top;\n",
       "    }\n",
       "\n",
       "    .dataframe thead th {\n",
       "        text-align: right;\n",
       "    }\n",
       "</style>\n",
       "<table border=\"1\" class=\"dataframe\">\n",
       "  <thead>\n",
       "    <tr style=\"text-align: right;\">\n",
       "      <th></th>\n",
       "      <th>0</th>\n",
       "      <th>word</th>\n",
       "    </tr>\n",
       "  </thead>\n",
       "  <tbody>\n",
       "    <tr>\n",
       "      <th>1136</th>\n",
       "      <td>0.584772</td>\n",
       "      <td>은근</td>\n",
       "    </tr>\n",
       "    <tr>\n",
       "      <th>1556</th>\n",
       "      <td>0.363587</td>\n",
       "      <td>중금</td>\n",
       "    </tr>\n",
       "    <tr>\n",
       "      <th>1876</th>\n",
       "      <td>0.356936</td>\n",
       "      <td>하지만</td>\n",
       "    </tr>\n",
       "    <tr>\n",
       "      <th>1724</th>\n",
       "      <td>0.333759</td>\n",
       "      <td>칭할</td>\n",
       "    </tr>\n",
       "    <tr>\n",
       "      <th>1087</th>\n",
       "      <td>0.256570</td>\n",
       "      <td>요소도</td>\n",
       "    </tr>\n",
       "  </tbody>\n",
       "</table>\n",
       "</div>"
      ],
      "text/plain": [
       "             0 word\n",
       "1136  0.584772   은근\n",
       "1556  0.363587   중금\n",
       "1876  0.356936  하지만\n",
       "1724  0.333759   칭할\n",
       "1087  0.256570  요소도"
      ]
     },
     "execution_count": 24,
     "metadata": {},
     "output_type": "execute_result"
    }
   ],
   "source": [
    "i = 0\n",
    "loading1.sort_values(i, ascending=False).loc[:, [i, 'word']].head()"
   ]
  },
  {
   "cell_type": "markdown",
   "metadata": {},
   "source": [
    "- 회전"
   ]
  },
  {
   "cell_type": "code",
   "execution_count": 25,
   "metadata": {},
   "outputs": [],
   "source": [
    "from factor_analyzer.rotator import Rotator\n",
    "rotator1 = Rotator()"
   ]
  },
  {
   "cell_type": "code",
   "execution_count": 26,
   "metadata": {},
   "outputs": [],
   "source": [
    "rotated1 = rotator1.fit_transform(svd1.components_.T)"
   ]
  },
  {
   "cell_type": "code",
   "execution_count": 27,
   "metadata": {},
   "outputs": [],
   "source": [
    "import pandas as pd\n",
    "rloading1 = pd.DataFrame(rotated1)\n",
    "rloading1['word'] = cv1.get_feature_names()"
   ]
  },
  {
   "cell_type": "code",
   "execution_count": 28,
   "metadata": {},
   "outputs": [
    {
     "data": {
      "text/html": [
       "<div>\n",
       "<style scoped>\n",
       "    .dataframe tbody tr th:only-of-type {\n",
       "        vertical-align: middle;\n",
       "    }\n",
       "\n",
       "    .dataframe tbody tr th {\n",
       "        vertical-align: top;\n",
       "    }\n",
       "\n",
       "    .dataframe thead th {\n",
       "        text-align: right;\n",
       "    }\n",
       "</style>\n",
       "<table border=\"1\" class=\"dataframe\">\n",
       "  <thead>\n",
       "    <tr style=\"text-align: right;\">\n",
       "      <th></th>\n",
       "      <th>0</th>\n",
       "      <th>word</th>\n",
       "    </tr>\n",
       "  </thead>\n",
       "  <tbody>\n",
       "    <tr>\n",
       "      <th>1876</th>\n",
       "      <td>0.699419</td>\n",
       "      <td>하지만</td>\n",
       "    </tr>\n",
       "    <tr>\n",
       "      <th>1724</th>\n",
       "      <td>0.624395</td>\n",
       "      <td>칭할</td>\n",
       "    </tr>\n",
       "    <tr>\n",
       "      <th>1092</th>\n",
       "      <td>0.107425</td>\n",
       "      <td>욕심이</td>\n",
       "    </tr>\n",
       "    <tr>\n",
       "      <th>1081</th>\n",
       "      <td>0.099306</td>\n",
       "      <td>왜이러지</td>\n",
       "    </tr>\n",
       "    <tr>\n",
       "      <th>1093</th>\n",
       "      <td>0.097674</td>\n",
       "      <td>욕이</td>\n",
       "    </tr>\n",
       "  </tbody>\n",
       "</table>\n",
       "</div>"
      ],
      "text/plain": [
       "             0  word\n",
       "1876  0.699419   하지만\n",
       "1724  0.624395    칭할\n",
       "1092  0.107425   욕심이\n",
       "1081  0.099306  왜이러지\n",
       "1093  0.097674    욕이"
      ]
     },
     "execution_count": 28,
     "metadata": {},
     "output_type": "execute_result"
    }
   ],
   "source": [
    "i = 0\n",
    "rloading1.sort_values(i, ascending=False).loc[:, [i, 'word']].head()"
   ]
  },
  {
   "cell_type": "code",
   "execution_count": 29,
   "metadata": {},
   "outputs": [
    {
     "data": {
      "text/plain": [
       "[<matplotlib.lines.Line2D at 0x2ca8e533b48>]"
      ]
     },
     "execution_count": 29,
     "metadata": {},
     "output_type": "execute_result"
    },
    {
     "data": {
      "image/png": "[encoded data removed]",
      "text/plain": [
       "<Figure size 432x288 with 1 Axes>"
      ]
     },
     "metadata": {
      "needs_background": "light"
     },
     "output_type": "display_data"
    }
   ],
   "source": [
    "review2_train, review2_test = train_test_split(df2['review'], test_size=.2, random_state=1234)\n",
    "\n",
    "cv2 = CountVectorizer(stop_words='english', max_features=2000)\n",
    "\n",
    "x2_train = cv2.fit_transform(review2_train)\n",
    "x2_test = cv2.fit_transform(review2_test)\n",
    "\n",
    "data2 = {\n",
    "    'x2_train': x2_train, \n",
    "    'x2_test': x2_test,\n",
    "    'cv2': cv2\n",
    "}\n",
    "\n",
    "svd2 = TruncatedSVD(n_components=10, random_state=1234)\n",
    "svd2.fit(x2_train)\n",
    "\n",
    "plt.plot(svd2.explained_variance_, 'o')"
   ]
  },
  {
   "cell_type": "code",
   "execution_count": 30,
   "metadata": {},
   "outputs": [
    {
     "data": {
      "text/html": [
       "<div>\n",
       "<style scoped>\n",
       "    .dataframe tbody tr th:only-of-type {\n",
       "        vertical-align: middle;\n",
       "    }\n",
       "\n",
       "    .dataframe tbody tr th {\n",
       "        vertical-align: top;\n",
       "    }\n",
       "\n",
       "    .dataframe thead th {\n",
       "        text-align: right;\n",
       "    }\n",
       "</style>\n",
       "<table border=\"1\" class=\"dataframe\">\n",
       "  <thead>\n",
       "    <tr style=\"text-align: right;\">\n",
       "      <th></th>\n",
       "      <th>0</th>\n",
       "      <th>word</th>\n",
       "    </tr>\n",
       "  </thead>\n",
       "  <tbody>\n",
       "    <tr>\n",
       "      <th>1220</th>\n",
       "      <td>0.824525</td>\n",
       "      <td>이병헌</td>\n",
       "    </tr>\n",
       "    <tr>\n",
       "      <th>1677</th>\n",
       "      <td>0.292502</td>\n",
       "      <td>코믹하면서</td>\n",
       "    </tr>\n",
       "    <tr>\n",
       "      <th>1400</th>\n",
       "      <td>0.204753</td>\n",
       "      <td>재미도</td>\n",
       "    </tr>\n",
       "    <tr>\n",
       "      <th>1183</th>\n",
       "      <td>0.134213</td>\n",
       "      <td>이래야한다는</td>\n",
       "    </tr>\n",
       "    <tr>\n",
       "      <th>327</th>\n",
       "      <td>0.111095</td>\n",
       "      <td>무엇보다</td>\n",
       "    </tr>\n",
       "  </tbody>\n",
       "</table>\n",
       "</div>"
      ],
      "text/plain": [
       "             0    word\n",
       "1220  0.824525     이병헌\n",
       "1677  0.292502   코믹하면서\n",
       "1400  0.204753     재미도\n",
       "1183  0.134213  이래야한다는\n",
       "327   0.111095    무엇보다"
      ]
     },
     "execution_count": 30,
     "metadata": {},
     "output_type": "execute_result"
    }
   ],
   "source": [
    "svd2 = TruncatedSVD(n_components=6, random_state=1234)\n",
    "svd2.fit(x2_train)\n",
    "\n",
    "doc_emb2 = svd2.transform(x2_test)\n",
    "\n",
    "loading2 = pd.DataFrame(svd2.components_.T)\n",
    "loading2['word'] = cv2.get_feature_names()\n",
    "\n",
    "i = 0\n",
    "loading2.sort_values(i, ascending=False).loc[:, [i, 'word']].head()"
   ]
  },
  {
   "cell_type": "markdown",
   "metadata": {},
   "source": [
    "- 회전"
   ]
  },
  {
   "cell_type": "code",
   "execution_count": 31,
   "metadata": {},
   "outputs": [
    {
     "data": {
      "text/html": [
       "<div>\n",
       "<style scoped>\n",
       "    .dataframe tbody tr th:only-of-type {\n",
       "        vertical-align: middle;\n",
       "    }\n",
       "\n",
       "    .dataframe tbody tr th {\n",
       "        vertical-align: top;\n",
       "    }\n",
       "\n",
       "    .dataframe thead th {\n",
       "        text-align: right;\n",
       "    }\n",
       "</style>\n",
       "<table border=\"1\" class=\"dataframe\">\n",
       "  <thead>\n",
       "    <tr style=\"text-align: right;\">\n",
       "      <th></th>\n",
       "      <th>0</th>\n",
       "      <th>word</th>\n",
       "    </tr>\n",
       "  </thead>\n",
       "  <tbody>\n",
       "    <tr>\n",
       "      <th>1220</th>\n",
       "      <td>0.956345</td>\n",
       "      <td>이병헌</td>\n",
       "    </tr>\n",
       "    <tr>\n",
       "      <th>756</th>\n",
       "      <td>0.059654</td>\n",
       "      <td>연기자네요</td>\n",
       "    </tr>\n",
       "    <tr>\n",
       "      <th>1736</th>\n",
       "      <td>0.059519</td>\n",
       "      <td>틀에서는</td>\n",
       "    </tr>\n",
       "    <tr>\n",
       "      <th>1491</th>\n",
       "      <td>0.057741</td>\n",
       "      <td>지루하고</td>\n",
       "    </tr>\n",
       "    <tr>\n",
       "      <th>615</th>\n",
       "      <td>0.032118</td>\n",
       "      <td>언제개봉하냐규ㅠㅠㅠㅠㅠ</td>\n",
       "    </tr>\n",
       "  </tbody>\n",
       "</table>\n",
       "</div>"
      ],
      "text/plain": [
       "             0          word\n",
       "1220  0.956345           이병헌\n",
       "756   0.059654         연기자네요\n",
       "1736  0.059519          틀에서는\n",
       "1491  0.057741          지루하고\n",
       "615   0.032118  언제개봉하냐규ㅠㅠㅠㅠㅠ"
      ]
     },
     "execution_count": 31,
     "metadata": {},
     "output_type": "execute_result"
    }
   ],
   "source": [
    "rotator2 = Rotator()\n",
    "\n",
    "rotated2 = rotator2.fit_transform(svd2.components_.T)\n",
    "\n",
    "rloading2 = pd.DataFrame(rotated2)\n",
    "rloading2['word'] = cv2.get_feature_names()\n",
    "\n",
    "i = 0\n",
    "rloading2.sort_values(i, ascending=False).loc[:, [i, 'word']].head()"
   ]
  },
  {
   "cell_type": "code",
   "execution_count": 32,
   "metadata": {},
   "outputs": [
    {
     "data": {
      "text/plain": [
       "[<matplotlib.lines.Line2D at 0x2ca8e3134c8>]"
      ]
     },
     "execution_count": 32,
     "metadata": {},
     "output_type": "execute_result"
    },
    {
     "data": {
      "image/png": "[encoded data removed]",
      "text/plain": [
       "<Figure size 432x288 with 1 Axes>"
      ]
     },
     "metadata": {
      "needs_background": "light"
     },
     "output_type": "display_data"
    }
   ],
   "source": [
    "review3_train, review3_test = train_test_split(df3['review'], test_size=.2, random_state=1234)\n",
    "\n",
    "cv3 = CountVectorizer(stop_words='english', max_features=1500)\n",
    "\n",
    "x3_train = cv3.fit_transform(review3_train)\n",
    "x3_test = cv3.fit_transform(review3_test)\n",
    "\n",
    "data3 = {\n",
    "    'x3_train': x3_train, \n",
    "    'x3_test': x3_test,\n",
    "    'cv3': cv3\n",
    "}\n",
    "\n",
    "svd3 = TruncatedSVD(n_components=10, random_state=1234)\n",
    "svd3.fit(x3_train)\n",
    "\n",
    "plt.plot(svd3.explained_variance_, 'o')"
   ]
  },
  {
   "cell_type": "code",
   "execution_count": 33,
   "metadata": {},
   "outputs": [
    {
     "data": {
      "text/html": [
       "<div>\n",
       "<style scoped>\n",
       "    .dataframe tbody tr th:only-of-type {\n",
       "        vertical-align: middle;\n",
       "    }\n",
       "\n",
       "    .dataframe tbody tr th {\n",
       "        vertical-align: top;\n",
       "    }\n",
       "\n",
       "    .dataframe thead th {\n",
       "        text-align: right;\n",
       "    }\n",
       "</style>\n",
       "<table border=\"1\" class=\"dataframe\">\n",
       "  <thead>\n",
       "    <tr style=\"text-align: right;\">\n",
       "      <th></th>\n",
       "      <th>0</th>\n",
       "      <th>word</th>\n",
       "    </tr>\n",
       "  </thead>\n",
       "  <tbody>\n",
       "    <tr>\n",
       "      <th>867</th>\n",
       "      <td>0.807323</td>\n",
       "      <td>없네</td>\n",
       "    </tr>\n",
       "    <tr>\n",
       "      <th>1289</th>\n",
       "      <td>0.275999</td>\n",
       "      <td>짖어대다가</td>\n",
       "    </tr>\n",
       "    <tr>\n",
       "      <th>1005</th>\n",
       "      <td>0.158278</td>\n",
       "      <td>웃고</td>\n",
       "    </tr>\n",
       "    <tr>\n",
       "      <th>194</th>\n",
       "      <td>0.133932</td>\n",
       "      <td>그런시대에</td>\n",
       "    </tr>\n",
       "    <tr>\n",
       "      <th>785</th>\n",
       "      <td>0.129271</td>\n",
       "      <td>아닐까</td>\n",
       "    </tr>\n",
       "  </tbody>\n",
       "</table>\n",
       "</div>"
      ],
      "text/plain": [
       "             0   word\n",
       "867   0.807323     없네\n",
       "1289  0.275999  짖어대다가\n",
       "1005  0.158278     웃고\n",
       "194   0.133932  그런시대에\n",
       "785   0.129271    아닐까"
      ]
     },
     "execution_count": 33,
     "metadata": {},
     "output_type": "execute_result"
    }
   ],
   "source": [
    "svd3 = TruncatedSVD(n_components=8, random_state=1234)\n",
    "svd3.fit(x3_train)\n",
    "\n",
    "doc_emb3 = svd3.transform(x3_test)\n",
    "\n",
    "loading3 = pd.DataFrame(svd3.components_.T)\n",
    "loading3['word'] = cv3.get_feature_names()\n",
    "\n",
    "i = 0\n",
    "loading3.sort_values(i, ascending=False).loc[:, [i, 'word']].head()"
   ]
  },
  {
   "cell_type": "code",
   "execution_count": 34,
   "metadata": {},
   "outputs": [
    {
     "data": {
      "text/html": [
       "<div>\n",
       "<style scoped>\n",
       "    .dataframe tbody tr th:only-of-type {\n",
       "        vertical-align: middle;\n",
       "    }\n",
       "\n",
       "    .dataframe tbody tr th {\n",
       "        vertical-align: top;\n",
       "    }\n",
       "\n",
       "    .dataframe thead th {\n",
       "        text-align: right;\n",
       "    }\n",
       "</style>\n",
       "<table border=\"1\" class=\"dataframe\">\n",
       "  <thead>\n",
       "    <tr style=\"text-align: right;\">\n",
       "      <th></th>\n",
       "      <th>0</th>\n",
       "      <th>word</th>\n",
       "    </tr>\n",
       "  </thead>\n",
       "  <tbody>\n",
       "    <tr>\n",
       "      <th>867</th>\n",
       "      <td>0.953013</td>\n",
       "      <td>없네</td>\n",
       "    </tr>\n",
       "    <tr>\n",
       "      <th>403</th>\n",
       "      <td>0.082683</td>\n",
       "      <td>돼지말자</td>\n",
       "    </tr>\n",
       "    <tr>\n",
       "      <th>1482</th>\n",
       "      <td>0.051581</td>\n",
       "      <td>확실</td>\n",
       "    </tr>\n",
       "    <tr>\n",
       "      <th>32</th>\n",
       "      <td>0.051020</td>\n",
       "      <td>3시간이란</td>\n",
       "    </tr>\n",
       "    <tr>\n",
       "      <th>1386</th>\n",
       "      <td>0.044396</td>\n",
       "      <td>포기한</td>\n",
       "    </tr>\n",
       "  </tbody>\n",
       "</table>\n",
       "</div>"
      ],
      "text/plain": [
       "             0   word\n",
       "867   0.953013     없네\n",
       "403   0.082683   돼지말자\n",
       "1482  0.051581     확실\n",
       "32    0.051020  3시간이란\n",
       "1386  0.044396    포기한"
      ]
     },
     "execution_count": 34,
     "metadata": {},
     "output_type": "execute_result"
    }
   ],
   "source": [
    "rotator3 = Rotator()\n",
    "\n",
    "rotated3 = rotator3.fit_transform(svd3.components_.T)\n",
    "\n",
    "rloading3 = pd.DataFrame(rotated3)\n",
    "rloading3['word'] = cv3.get_feature_names()\n",
    "\n",
    "i = 0\n",
    "rloading3.sort_values(i, ascending=False).loc[:, [i, 'word']].head()"
   ]
  },
  {
   "cell_type": "code",
   "execution_count": 35,
   "metadata": {},
   "outputs": [
    {
     "data": {
      "text/plain": [
       "[<matplotlib.lines.Line2D at 0x2ca8e62dc08>]"
      ]
     },
     "execution_count": 35,
     "metadata": {},
     "output_type": "execute_result"
    },
    {
     "data": {
      "image/png": "[encoded data removed]",
      "text/plain": [
       "<Figure size 432x288 with 1 Axes>"
      ]
     },
     "metadata": {
      "needs_background": "light"
     },
     "output_type": "display_data"
    }
   ],
   "source": [
    "review4_train, review4_test = train_test_split(df4['review'], test_size=.2, random_state=1234)\n",
    "\n",
    "cv4 = CountVectorizer(stop_words='english', max_features=2000)\n",
    "\n",
    "x4_train = cv4.fit_transform(review4_train)\n",
    "x4_test = cv4.fit_transform(review4_test)\n",
    "\n",
    "data4 = {\n",
    "    'x4_train': x4_train, \n",
    "    'x4_test': x4_test,\n",
    "    'cv4': cv4\n",
    "}\n",
    "\n",
    "svd4 = TruncatedSVD(n_components=10, random_state=1234)\n",
    "svd4.fit(x4_train)\n",
    "\n",
    "plt.plot(svd4.explained_variance_, 'o')"
   ]
  },
  {
   "cell_type": "code",
   "execution_count": 36,
   "metadata": {},
   "outputs": [
    {
     "data": {
      "text/html": [
       "<div>\n",
       "<style scoped>\n",
       "    .dataframe tbody tr th:only-of-type {\n",
       "        vertical-align: middle;\n",
       "    }\n",
       "\n",
       "    .dataframe tbody tr th {\n",
       "        vertical-align: top;\n",
       "    }\n",
       "\n",
       "    .dataframe thead th {\n",
       "        text-align: right;\n",
       "    }\n",
       "</style>\n",
       "<table border=\"1\" class=\"dataframe\">\n",
       "  <thead>\n",
       "    <tr style=\"text-align: right;\">\n",
       "      <th></th>\n",
       "      <th>0</th>\n",
       "      <th>word</th>\n",
       "    </tr>\n",
       "  </thead>\n",
       "  <tbody>\n",
       "    <tr>\n",
       "      <th>1253</th>\n",
       "      <td>0.878654</td>\n",
       "      <td>재미있다</td>\n",
       "    </tr>\n",
       "    <tr>\n",
       "      <th>342</th>\n",
       "      <td>0.227309</td>\n",
       "      <td>남자의</td>\n",
       "    </tr>\n",
       "    <tr>\n",
       "      <th>1625</th>\n",
       "      <td>0.183281</td>\n",
       "      <td>초딩나레이션과</td>\n",
       "    </tr>\n",
       "    <tr>\n",
       "      <th>1674</th>\n",
       "      <td>0.138466</td>\n",
       "      <td>친절해서</td>\n",
       "    </tr>\n",
       "    <tr>\n",
       "      <th>1219</th>\n",
       "      <td>0.114310</td>\n",
       "      <td>잡탕을</td>\n",
       "    </tr>\n",
       "  </tbody>\n",
       "</table>\n",
       "</div>"
      ],
      "text/plain": [
       "             0     word\n",
       "1253  0.878654     재미있다\n",
       "342   0.227309      남자의\n",
       "1625  0.183281  초딩나레이션과\n",
       "1674  0.138466     친절해서\n",
       "1219  0.114310      잡탕을"
      ]
     },
     "execution_count": 36,
     "metadata": {},
     "output_type": "execute_result"
    }
   ],
   "source": [
    "svd4 = TruncatedSVD(n_components=6, random_state=1234)\n",
    "svd4.fit(x4_train)\n",
    "\n",
    "doc_emb4 = svd4.transform(x4_test)\n",
    "\n",
    "loading4 = pd.DataFrame(svd4.components_.T)\n",
    "loading4['word'] = cv4.get_feature_names()\n",
    "\n",
    "i = 0\n",
    "loading4.sort_values(i, ascending=False).loc[:, [i, 'word']].head()"
   ]
  },
  {
   "cell_type": "code",
   "execution_count": 37,
   "metadata": {},
   "outputs": [
    {
     "data": {
      "text/html": [
       "<div>\n",
       "<style scoped>\n",
       "    .dataframe tbody tr th:only-of-type {\n",
       "        vertical-align: middle;\n",
       "    }\n",
       "\n",
       "    .dataframe tbody tr th {\n",
       "        vertical-align: top;\n",
       "    }\n",
       "\n",
       "    .dataframe thead th {\n",
       "        text-align: right;\n",
       "    }\n",
       "</style>\n",
       "<table border=\"1\" class=\"dataframe\">\n",
       "  <thead>\n",
       "    <tr style=\"text-align: right;\">\n",
       "      <th></th>\n",
       "      <th>0</th>\n",
       "      <th>word</th>\n",
       "    </tr>\n",
       "  </thead>\n",
       "  <tbody>\n",
       "    <tr>\n",
       "      <th>1253</th>\n",
       "      <td>0.959842</td>\n",
       "      <td>재미있다</td>\n",
       "    </tr>\n",
       "    <tr>\n",
       "      <th>588</th>\n",
       "      <td>0.040358</td>\n",
       "      <td>봤지만</td>\n",
       "    </tr>\n",
       "    <tr>\n",
       "      <th>443</th>\n",
       "      <td>0.037591</td>\n",
       "      <td>매력을</td>\n",
       "    </tr>\n",
       "    <tr>\n",
       "      <th>783</th>\n",
       "      <td>0.032657</td>\n",
       "      <td>영구히</td>\n",
       "    </tr>\n",
       "    <tr>\n",
       "      <th>823</th>\n",
       "      <td>0.032433</td>\n",
       "      <td>영화속</td>\n",
       "    </tr>\n",
       "  </tbody>\n",
       "</table>\n",
       "</div>"
      ],
      "text/plain": [
       "             0  word\n",
       "1253  0.959842  재미있다\n",
       "588   0.040358   봤지만\n",
       "443   0.037591   매력을\n",
       "783   0.032657   영구히\n",
       "823   0.032433   영화속"
      ]
     },
     "execution_count": 37,
     "metadata": {},
     "output_type": "execute_result"
    }
   ],
   "source": [
    "rotator4 = Rotator()\n",
    "\n",
    "rotated4 = rotator4.fit_transform(svd4.components_.T)\n",
    "\n",
    "rloading4 = pd.DataFrame(rotated4)\n",
    "rloading4['word'] = cv4.get_feature_names()\n",
    "\n",
    "i = 0\n",
    "rloading4.sort_values(i, ascending=False).loc[:, [i, 'word']].head()"
   ]
  },
  {
   "cell_type": "code",
   "execution_count": null,
   "metadata": {},
   "outputs": [],
   "source": []
  }
 ],
 "metadata": {
  "kernelspec": {
   "display_name": "Python 3",
   "language": "python",
   "name": "python3"
  },
  "language_info": {
   "codemirror_mode": {
    "name": "ipython",
    "version": 3
   },
   "file_extension": ".py",
   "mimetype": "text/x-python",
   "name": "python",
   "nbconvert_exporter": "python",
   "pygments_lexer": "ipython3",
   "version": "3.7.6"
  }
 },
 "nbformat": 4,
 "nbformat_minor": 4
}
