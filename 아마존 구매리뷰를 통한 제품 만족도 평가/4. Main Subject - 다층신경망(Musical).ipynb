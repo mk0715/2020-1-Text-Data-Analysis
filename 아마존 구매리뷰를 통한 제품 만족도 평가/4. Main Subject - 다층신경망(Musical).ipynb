{
 "cells": [
  {
   "cell_type": "code",
   "execution_count": 1,
   "metadata": {},
   "outputs": [],
   "source": [
    "import joblib\n",
    "\n",
    "cv, x_train, x_test, y_train, y_test = joblib.load('nsmc2.pkl')"
   ]
  },
  {
   "cell_type": "markdown",
   "metadata": {},
   "source": [
    "### 모형"
   ]
  },
  {
   "cell_type": "code",
   "execution_count": 2,
   "metadata": {},
   "outputs": [],
   "source": [
    "import tensorflow as tf"
   ]
  },
  {
   "cell_type": "code",
   "execution_count": 3,
   "metadata": {},
   "outputs": [],
   "source": [
    "model = tf.keras.models.Sequential()"
   ]
  },
  {
   "cell_type": "code",
   "execution_count": 6,
   "metadata": {},
   "outputs": [],
   "source": [
    "model.add(  \n",
    "    tf.keras.layers.Dense(\n",
    "        16, \n",
    "        input_shape=(3048,),\n",
    "        activation='relu',\n",
    "        name='hidden'\n",
    "    )\n",
    ")"
   ]
  },
  {
   "cell_type": "code",
   "execution_count": 7,
   "metadata": {},
   "outputs": [],
   "source": [
    "model.add(\n",
    "    tf.keras.layers.Dense(\n",
    "        1,  \n",
    "        activation='sigmoid',\n",
    "        name='output'\n",
    "    )\n",
    ")"
   ]
  },
  {
   "cell_type": "code",
   "execution_count": 8,
   "metadata": {},
   "outputs": [
    {
     "name": "stdout",
     "output_type": "stream",
     "text": [
      "Model: \"sequential\"\n",
      "_________________________________________________________________\n",
      "Layer (type)                 Output Shape              Param #   \n",
      "=================================================================\n",
      "hidden (Dense)               (None, 16)                48784     \n",
      "_________________________________________________________________\n",
      "output (Dense)               (None, 1)                 17        \n",
      "=================================================================\n",
      "Total params: 48,801\n",
      "Trainable params: 48,801\n",
      "Non-trainable params: 0\n",
      "_________________________________________________________________\n"
     ]
    }
   ],
   "source": [
    "model.summary()"
   ]
  },
  {
   "cell_type": "markdown",
   "metadata": {},
   "source": [
    "### 학습률"
   ]
  },
  {
   "cell_type": "code",
   "execution_count": 9,
   "metadata": {},
   "outputs": [],
   "source": [
    "model.compile(optimizer=tf.keras.optimizers.Adam(lr=0.001),\n",
    "             loss='binary_crossentropy',\n",
    "             metrics=['accuracy'])"
   ]
  },
  {
   "cell_type": "markdown",
   "metadata": {},
   "source": [
    "### 학습"
   ]
  },
  {
   "cell_type": "code",
   "execution_count": 11,
   "metadata": {},
   "outputs": [
    {
     "name": "stdout",
     "output_type": "stream",
     "text": [
      "Train on 7382 samples, validate on 821 samples\n",
      "Epoch 1/100\n",
      "7382/7382 [==============================] - 0s 62us/sample - loss: 0.3934 - accuracy: 0.8763 - val_loss: 0.3668 - val_accuracy: 0.8782\n",
      "Epoch 2/100\n",
      "7382/7382 [==============================] - 0s 38us/sample - loss: 0.2516 - accuracy: 0.8950 - val_loss: 0.3627 - val_accuracy: 0.8794\n",
      "Epoch 3/100\n",
      "7382/7382 [==============================] - 0s 35us/sample - loss: 0.1942 - accuracy: 0.9218 - val_loss: 0.3826 - val_accuracy: 0.8782\n"
     ]
    },
    {
     "data": {
      "text/plain": [
       "<tensorflow.python.keras.callbacks.History at 0x151e2251c08>"
      ]
     },
     "execution_count": 11,
     "metadata": {},
     "output_type": "execute_result"
    }
   ],
   "source": [
    "model.fit(x_train.toarray(),y_train.values, epochs=100, validation_split=0.1,\n",
    "         callbacks=[tf.keras.callbacks.EarlyStopping(monitor='val_accuracy')]) "
   ]
  },
  {
   "cell_type": "markdown",
   "metadata": {},
   "source": [
    "### 모형평가"
   ]
  },
  {
   "cell_type": "code",
   "execution_count": 12,
   "metadata": {},
   "outputs": [
    {
     "data": {
      "text/plain": [
       "[0.29708051237244537, 0.887372]"
      ]
     },
     "execution_count": 12,
     "metadata": {},
     "output_type": "execute_result"
    }
   ],
   "source": [
    "model.evaluate(x_test.toarray(), y_test.values, verbose=0)"
   ]
  },
  {
   "cell_type": "markdown",
   "metadata": {},
   "source": [
    "# hyperopt"
   ]
  },
  {
   "cell_type": "markdown",
   "metadata": {},
   "source": [
    "### 탐색공간 정의하기"
   ]
  },
  {
   "cell_type": "code",
   "execution_count": 13,
   "metadata": {},
   "outputs": [],
   "source": [
    "from hyperopt import hp\n",
    "from hyperopt.pyll.stochastic import sample"
   ]
  },
  {
   "cell_type": "code",
   "execution_count": 16,
   "metadata": {},
   "outputs": [],
   "source": [
    "space = hp.choice('model',[\n",
    "    {\n",
    "        'layer': 'single',\n",
    "        'lr': hp.loguniform('lr1',-7,2)  \n",
    "    },\n",
    "    {\n",
    "        'layer': 'multi',\n",
    "        'lr': hp.loguniform('lr2',-7,2),\n",
    "        'units': hp.quniform('units',16,128,16), \n",
    "        'activation': hp.choice('activation',['relu','tanh'])\n",
    "    }\n",
    "])"
   ]
  },
  {
   "cell_type": "code",
   "execution_count": 18,
   "metadata": {},
   "outputs": [],
   "source": [
    "import joblib\n",
    "\n",
    "cv, x_train, x_test, y_train, y_test = joblib.load('nsmc2.pkl')"
   ]
  },
  {
   "cell_type": "markdown",
   "metadata": {},
   "source": [
    "### 모형"
   ]
  },
  {
   "cell_type": "code",
   "execution_count": 19,
   "metadata": {},
   "outputs": [],
   "source": [
    "import tensorflow as tf\n",
    "from hyperopt import STATUS_OK\n",
    "import uuid"
   ]
  },
  {
   "cell_type": "code",
   "execution_count": 21,
   "metadata": {},
   "outputs": [],
   "source": [
    "def objective(h):\n",
    "    model = tf.keras.models.Sequential()\n",
    "    \n",
    "    if h['layer'] == 'multi':\n",
    "        model.add(tf.keras.layers.Dense(h['units'], activation=h['activation']))  # input_shape 자동지정댐.\n",
    "    \n",
    "    model.add(tf.keras.layers.Dense(1, activation='sigmoid'))\n",
    "    \n",
    "    model.compile(optimizer=tf.keras.optimizers.Adam(lr=h['lr']),\n",
    "                 loss='binary_crossentropy',\n",
    "                 metrics=['accuracy'])\n",
    "    \n",
    "    model.fit(\n",
    "        x_train.toarray(),\n",
    "        y_train.values,\n",
    "        epochs=100,\n",
    "        verbose=0, \n",
    "        callbacks=[tf.keras.callbacks.EarlyStopping(monitor='val_accuracy')]\n",
    "    )\n",
    "    \n",
    "    loss, acc = model.evaluate(x_test.toarray(), y_test.values, verbose=0)\n",
    "    \n",
    "    filename = str(uuid.uuid4())\n",
    "    model.save(filename)\n",
    "    \n",
    "    return{\n",
    "        'loss': -acc,  \n",
    "        'status': STATUS_OK,\n",
    "        'filename': filename\n",
    "    }"
   ]
  },
  {
   "cell_type": "code",
   "execution_count": 22,
   "metadata": {},
   "outputs": [],
   "source": [
    "h = sample(space)"
   ]
  },
  {
   "cell_type": "markdown",
   "metadata": {},
   "source": [
    "### 탐색"
   ]
  },
  {
   "cell_type": "code",
   "execution_count": 23,
   "metadata": {},
   "outputs": [],
   "source": [
    "import warnings"
   ]
  },
  {
   "cell_type": "code",
   "execution_count": 24,
   "metadata": {},
   "outputs": [],
   "source": [
    "warnings.simplefilter('ignore')  \n",
    "tf.get_logger().setLevel('ERROR')  "
   ]
  },
  {
   "cell_type": "code",
   "execution_count": 25,
   "metadata": {},
   "outputs": [
    {
     "data": {
      "text/plain": [
       "{'loss': -0.8537299,\n",
       " 'status': 'ok',\n",
       " 'filename': '9b0e9725-ebcd-43a8-9d71-a89728372ef9'}"
      ]
     },
     "execution_count": 25,
     "metadata": {},
     "output_type": "execute_result"
    }
   ],
   "source": [
    "objective(h)"
   ]
  },
  {
   "cell_type": "code",
   "execution_count": 26,
   "metadata": {},
   "outputs": [],
   "source": [
    "from hyperopt import fmin, rand, tpe, Trials"
   ]
  },
  {
   "cell_type": "code",
   "execution_count": 27,
   "metadata": {},
   "outputs": [],
   "source": [
    "trials = Trials()"
   ]
  },
  {
   "cell_type": "code",
   "execution_count": 28,
   "metadata": {},
   "outputs": [
    {
     "name": "stdout",
     "output_type": "stream",
     "text": [
      "100%|█████████████████████████████████████████████████| 3/3 [01:07<00:00, 22.58s/trial, best loss: -0.8620185256004333]\n"
     ]
    },
    {
     "data": {
      "text/plain": [
       "{'activation': 1, 'lr2': 0.025027610402074456, 'model': 1, 'units': 48.0}"
      ]
     },
     "execution_count": 28,
     "metadata": {},
     "output_type": "execute_result"
    }
   ],
   "source": [
    "fmin(\n",
    "    objective,\n",
    "    space=space,\n",
    "    algo=rand.suggest,  # rand는 random하게 탐색하는 알고리즘 사용, tpe는 이전의 경험을 토대로 발견.\n",
    "    max_evals=3,\n",
    "    trials=trials\n",
    ")"
   ]
  },
  {
   "cell_type": "code",
   "execution_count": 30,
   "metadata": {},
   "outputs": [],
   "source": [
    "best_model = tf.keras.models.load_model(trials.best_trial['result']['filename'])"
   ]
  },
  {
   "cell_type": "code",
   "execution_count": 31,
   "metadata": {},
   "outputs": [
    {
     "data": {
      "text/plain": [
       "[0.7913424538322218, 0.8620185]"
      ]
     },
     "execution_count": 31,
     "metadata": {},
     "output_type": "execute_result"
    }
   ],
   "source": [
    "best_model.evaluate(x_test.toarray(), y_test.values, verbose=0)"
   ]
  },
  {
   "cell_type": "code",
   "execution_count": null,
   "metadata": {},
   "outputs": [],
   "source": []
  }
 ],
 "metadata": {
  "kernelspec": {
   "display_name": "Python 3",
   "language": "python",
   "name": "python3"
  },
  "language_info": {
   "codemirror_mode": {
    "name": "ipython",
    "version": 3
   },
   "file_extension": ".py",
   "mimetype": "text/x-python",
   "name": "python",
   "nbconvert_exporter": "python",
   "pygments_lexer": "ipython3",
   "version": "3.7.6"
  }
 },
 "nbformat": 4,
 "nbformat_minor": 4
}
